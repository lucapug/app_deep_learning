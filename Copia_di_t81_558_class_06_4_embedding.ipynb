{
  "cells": [
    {
      "cell_type": "markdown",
      "metadata": {
        "id": "view-in-github",
        "colab_type": "text"
      },
      "source": [
        "<a href=\"https://colab.research.google.com/github/lucapug/app_deep_learning/blob/main/Copia_di_t81_558_class_06_4_embedding.ipynb\" target=\"_parent\"><img src=\"https://colab.research.google.com/assets/colab-badge.svg\" alt=\"Open In Colab\"/></a>"
      ]
    },
    {
      "cell_type": "markdown",
      "metadata": {
        "id": "hRuM9Pg2oBZQ"
      },
      "source": [
        "<a href=\"https://colab.research.google.com/github/jeffheaton/app_deep_learning/blob/main/t81_558_class_06_4_embedding.ipynb\" target=\"_parent\"><img src=\"https://colab.research.google.com/assets/colab-badge.svg\" alt=\"Open In Colab\"/></a>\n"
      ]
    },
    {
      "cell_type": "markdown",
      "metadata": {
        "id": "nPIDsF57oBZR"
      },
      "source": [
        "# T81-558: Applications of Deep Neural Networks\n",
        "**Module 11: Natural Language Processing and Speech Recognition**\n",
        "* Instructor: [Jeff Heaton](https://sites.wustl.edu/jeffheaton/), McKelvey School of Engineering, [Washington University in St. Louis](https://engineering.wustl.edu/Programs/Pages/default.aspx)\n",
        "* For more information visit the [class website](https://sites.wustl.edu/jeffheaton/t81-558/)."
      ]
    },
    {
      "cell_type": "markdown",
      "metadata": {
        "id": "4iEXcrLBoBZS"
      },
      "source": [
        "# Module 6 Material\n",
        "\n",
        "* **Part 6.1: Introduction to Transformers** [[Video]](https://www.youtube.com/watch?v=mn6r5PYJcu0&list=PLjy4p-07OYzulelvJ5KVaT2pDlxivl_BN) [[Notebook]](t81_558_class_06_1_transformers.ipynb)\n",
        "* Part 6.2: Accessing the ChatGPT API [[Video]](https://www.youtube.com/watch?v=tcdscXl4o5w&list=PLjy4p-07OYzulelvJ5KVaT2pDlxivl_BN) [[Notebook]](t81_558_class_06_2_chat_gpt.ipynb)\n",
        "* Part 6.3: Llama, Alpaca, and LORA [[Video]](https://www.youtube.com/watch?v=oGQ3TQx1Qs8&list=PLjy4p-07OYzulelvJ5KVaT2pDlxivl_BN) [[Notebook]](t81_558_class_06_3_alpaca_lora.ipynb)\n",
        "* **Part 6.4: Introduction to Embeddings** [[Video]](https://www.youtube.com/watch?v=e6kcs9Uj_ps&list=PLjy4p-07OYzulelvJ5KVaT2pDlxivl_BN) [[Notebook]](t81_558_class_06_4_embedding.ipynb)\n",
        "* Part 6.5: Prompt Engineering [[Video]](https://www.youtube.com/watch?v=miTpIDR7k6c&list=PLjy4p-07OYzulelvJ5KVaT2pDlxivl_BN) [[Notebook]](t81_558_class_06_5_prompt_engineering.ipynb)"
      ]
    },
    {
      "cell_type": "markdown",
      "metadata": {
        "id": "92qJtJOToBZS"
      },
      "source": [
        "# Google CoLab Instructions\n",
        "\n",
        "The following code ensures that Google CoLab is running the correct version of TensorFlow."
      ]
    },
    {
      "cell_type": "code",
      "execution_count": null,
      "metadata": {
        "colab": {
          "base_uri": "https://localhost:8080/"
        },
        "id": "LvTVJyBMoBZS",
        "outputId": "d1f323ae-5e70-4f67-b769-e745b1e73100"
      },
      "outputs": [
        {
          "output_type": "stream",
          "name": "stdout",
          "text": [
            "Note: using Google CoLab\n"
          ]
        }
      ],
      "source": [
        "try:\n",
        "    from google.colab import drive\n",
        "    COLAB = True\n",
        "    print(\"Note: using Google CoLab\")\n",
        "except:\n",
        "    print(\"Note: not using Google CoLab\")\n",
        "    COLAB = False"
      ]
    },
    {
      "cell_type": "markdown",
      "metadata": {
        "id": "wTUM5nqjoBZT"
      },
      "source": [
        "# Part 6.4: What are Embedding Layers in PyTorch\n",
        "\n",
        "[Embedding Layers](https://pytorch.org/docs/stable/generated/torch.nn.Embedding.html) are a handy feature of PyTorch that allows the program to automatically insert additional information into the data flow of your neural network. An embedding layer would automatically allow you to insert vectors in the place of word indexes.  \n",
        "\n",
        "Programmers often use embedding layers with Natural Language Processing (NLP); however, you can use these layers when you wish to insert a lengthier vector in an index value place. In some ways, you can think of an embedding layer as dimension expansion. However, the hope is that these additional dimensions provide more information to the model and provide a better score.\n",
        "\n",
        "## Simple Embedding Layer Example\n",
        "\n",
        "* **num_embeddings** = How large is the vocabulary?  How many categories are you encoding? This parameter is the number of items in your \"lookup table.\"\n",
        "* **embedding_dim** = How many numbers in the vector you wish to return.\n",
        "\n",
        "Now we create a neural network with a vocabulary size of 10, which will reduce those values between 0-9 to 4 number vectors. This neural network does nothing more than passing the embedding on to the output. But it does let us see what the embedding is doing. Each feature vector coming in will have two such features."
      ]
    },
    {
      "cell_type": "code",
      "execution_count": null,
      "metadata": {
        "id": "CZk4DnzDoBZU"
      },
      "outputs": [],
      "source": [
        "import torch\n",
        "import torch.nn as nn\n",
        "\n",
        "embedding_layer = nn.Embedding(num_embeddings=10, embedding_dim=4)\n",
        "optimizer = torch.optim.Adam(embedding_layer.parameters(), lr=0.001)\n",
        "loss_function = nn.MSELoss()"
      ]
    },
    {
      "cell_type": "markdown",
      "metadata": {
        "id": "eXHSrr3poBZU"
      },
      "source": [
        "Let's take a look at the structure of this neural network to see what is happening inside it."
      ]
    },
    {
      "cell_type": "code",
      "execution_count": null,
      "metadata": {
        "colab": {
          "base_uri": "https://localhost:8080/"
        },
        "id": "kqawbb_PoBZU",
        "outputId": "2d6a0577-2998-4947-88e7-43457451cde8"
      },
      "outputs": [
        {
          "output_type": "stream",
          "name": "stdout",
          "text": [
            "Embedding(10, 4)\n"
          ]
        }
      ],
      "source": [
        "print(embedding_layer)"
      ]
    },
    {
      "cell_type": "markdown",
      "metadata": {
        "id": "6kh6wKszoBZV"
      },
      "source": [
        "For this neural network, which is just an embedding layer, the input is a vector of size 2. These two inputs are integer numbers from 0 to 9 (corresponding to the requested input_dim quantity of 10 values). Looking at the summary above, we see that the embedding layer has 40 parameters. This value comes from the embedded lookup table that contains four amounts (output_dim) for each of the 10 (input_dim) possible integer values for the two inputs. The output is 2 (input_length) length 4 (output_dim) vectors, resulting in a total output size of 8, which corresponds to the Output Shape given in the summary above.\n",
        "\n",
        "Now, let us query the neural network with two rows. The input is two integer values, as was specified when we created the neural network."
      ]
    },
    {
      "cell_type": "code",
      "execution_count": null,
      "metadata": {
        "colab": {
          "base_uri": "https://localhost:8080/"
        },
        "id": "iRBKtw-_oBZV",
        "outputId": "b4d97453-5f45-41fa-d1f4-6900cce610c0"
      },
      "outputs": [
        {
          "output_type": "stream",
          "name": "stdout",
          "text": [
            "torch.Size([1, 2])\n",
            "tensor([[[ 0.5538,  1.2744, -0.1830,  0.5126],\n",
            "         [ 1.2415,  0.7768,  1.9173, -0.9401]]], grad_fn=<EmbeddingBackward0>)\n"
          ]
        }
      ],
      "source": [
        "input_tensor = torch.tensor([[1, 9]], dtype=torch.long)\n",
        "pred = embedding_layer(input_tensor)\n",
        "\n",
        "print(input_tensor.shape)\n",
        "print(pred)\n"
      ]
    },
    {
      "cell_type": "markdown",
      "metadata": {
        "id": "DRfFids1oBZV"
      },
      "source": [
        "Here we see two length-4 vectors that PyTorch looked up for each input integer. Recall that Python arrays are zero-based. PyTorch replaced the value of 1 with the second row of the 10 x 4 lookup matrix. Similarly, PyTorch returned the value of 2 by the third row of the lookup matrix. The following code displays the lookup matrix in its entirety. The embedding layer performs no mathematical operations other than inserting the correct row from the lookup table."
      ]
    },
    {
      "cell_type": "code",
      "execution_count": null,
      "metadata": {
        "colab": {
          "base_uri": "https://localhost:8080/"
        },
        "id": "YStGrTSKoBZW",
        "outputId": "9b40a033-aa1f-4419-89e9-23ba16fd1055"
      },
      "outputs": [
        {
          "output_type": "execute_result",
          "data": {
            "text/plain": [
              "tensor([[-0.2724,  0.8923,  0.6197,  0.9303],\n",
              "        [ 0.5538,  1.2744, -0.1830,  0.5126],\n",
              "        [-1.5820,  0.5940,  0.6201,  0.2819],\n",
              "        [ 1.0114, -0.1437,  1.4010, -0.4993],\n",
              "        [ 0.5025, -0.1589,  1.0328, -0.0418],\n",
              "        [-1.6068, -0.6425, -0.6680,  0.0240],\n",
              "        [-0.1675, -0.6179,  0.0032,  0.7454],\n",
              "        [ 0.8676, -0.1140,  0.7615,  0.0057],\n",
              "        [ 0.4492,  0.3273, -1.0829, -0.6621],\n",
              "        [ 1.2415,  0.7768,  1.9173, -0.9401]])"
            ]
          },
          "metadata": {},
          "execution_count": 4
        }
      ],
      "source": [
        "embedding_layer.weight.data"
      ]
    },
    {
      "cell_type": "markdown",
      "metadata": {
        "id": "y0QLcjnwoBZW"
      },
      "source": [
        "The values above are random parameters that PyTorch generated as starting points.  Generally, we will transfer an embedding or train these random values into something useful.  The following section demonstrates how to embed a hand-coded embedding.\n",
        "\n",
        "## Transferring An Embedding\n",
        "\n",
        "Now, we see how to hard-code an embedding lookup that performs a simple one-hot encoding.  One-hot encoding would transform the input integer values of 0, 1, and 2 to the vectors $[1,0,0]$, $[0,1,0]$, and $[0,0,1]$ respectively. The following code replaced the random lookup values in the embedding layer with this one-hot coding-inspired lookup table."
      ]
    },
    {
      "cell_type": "code",
      "execution_count": null,
      "metadata": {
        "id": "AIt-SWK6oBZW"
      },
      "outputs": [],
      "source": [
        "import torch\n",
        "import torch.nn as nn\n",
        "\n",
        "# Define the embedding lookup matrix\n",
        "embedding_lookup = torch.tensor([\n",
        "    [1, 0, 0],\n",
        "    [0, 1, 0],\n",
        "    [0, 0, 1]\n",
        "], dtype=torch.float32)  # Make sure to use float32 for weight matrices\n",
        "\n",
        "# Create the embedding layer\n",
        "embedding_layer = nn.Embedding(num_embeddings=3, embedding_dim=3)\n",
        "\n",
        "# Set the weights of the embedding layer\n",
        "embedding_layer.weight.data = embedding_lookup\n"
      ]
    },
    {
      "cell_type": "markdown",
      "metadata": {
        "id": "oQ_bVdtkoBZW"
      },
      "source": [
        "We have the following parameters for the Embedding layer:\n",
        "    \n",
        "* input_dim=3 - There are three different integer categorical values allowed.\n",
        "* output_dim=3 - Three columns represent a categorical value with three possible values per one-hot encoding.\n",
        "* input_length=2 - The input vector has two of these categorical values.\n",
        "\n",
        "We query the neural network with two categorical values to see the lookup performed."
      ]
    },
    {
      "cell_type": "code",
      "execution_count": null,
      "metadata": {
        "colab": {
          "base_uri": "https://localhost:8080/"
        },
        "id": "ufBqgk6joBZW",
        "outputId": "26034be1-8df4-4314-8f4d-95312b371950"
      },
      "outputs": [
        {
          "output_type": "stream",
          "name": "stdout",
          "text": [
            "torch.Size([1, 2])\n",
            "tensor([[[1., 0., 0.],\n",
            "         [0., 1., 0.]]], grad_fn=<EmbeddingBackward0>)\n"
          ]
        }
      ],
      "source": [
        "# Create the input tensor directly in PyTorch\n",
        "input_tensor = torch.tensor([[0, 1]], dtype=torch.long)\n",
        "\n",
        "# Forward pass to get the predictions\n",
        "pred = embedding_layer(input_tensor)\n",
        "\n",
        "print(input_tensor.shape)\n",
        "print(pred)"
      ]
    },
    {
      "cell_type": "markdown",
      "metadata": {
        "id": "pX76cE9HoBZW"
      },
      "source": [
        "The given output shows that we provided the program with two rows from the one-hot encoding table. This encoding is a correct one-hot encoding for the values 0 and 1, where there are up to 3 unique values possible.\n",
        "\n",
        "The following section demonstrates how to train this embedding lookup table.\n",
        "\n",
        "## Training an Embedding\n",
        "\n",
        "First, we make use of the following imports."
      ]
    },
    {
      "cell_type": "code",
      "execution_count": null,
      "metadata": {
        "id": "mb-nwgKhoBZX"
      },
      "outputs": [],
      "source": [
        "import torch\n",
        "import torch.nn as nn\n",
        "import torch.optim as optim\n",
        "from sklearn.preprocessing import OneHotEncoder\n",
        "from torch.nn.utils.rnn import pad_sequence"
      ]
    },
    {
      "cell_type": "markdown",
      "metadata": {
        "id": "dJ7UlNZfoBZX"
      },
      "source": [
        "We create a neural network that classifies restaurant reviews according to positive or negative.  This neural network can accept strings as input, such as given here.  This code also includes positive or negative labels for each review."
      ]
    },
    {
      "cell_type": "code",
      "execution_count": null,
      "metadata": {
        "id": "vr20wr0ZoBZX"
      },
      "outputs": [],
      "source": [
        "# Define 10 resturant reviews.\n",
        "reviews = [\n",
        "    'Never coming back!',\n",
        "    'Horrible service',\n",
        "    'Rude waitress',\n",
        "    'Cold food.',\n",
        "    'Horrible food!',\n",
        "    'Awesome',\n",
        "    'Awesome service!',\n",
        "    'Rocks!',\n",
        "    'poor work',\n",
        "    'Couldn\\'t have done better']\n",
        "\n",
        "# Define labels (1=negative, 0=positive)\n",
        "labels = [1, 1, 1, 1, 1, 0, 0, 0, 0, 0]\n",
        "#labels = [1, 1, 1, 1, 1, 0, 0, 1, 1, 1]\n"
      ]
    },
    {
      "cell_type": "markdown",
      "metadata": {
        "id": "ID5bpFo2oBZX"
      },
      "source": [
        "Notice that the second to the last label is incorrect.  Errors such as this are not too out of the ordinary, as most training data could have some noise.\n",
        "\n",
        "We define a vocabulary size of 50 words.  Though we do not have 50 words, it is okay to use a value larger than needed.  If there are more than 50 words, the least frequently used words in the training set are automatically dropped by the embedding layer during training.  For input, we one-hot encode the strings.  We use the TensorFlow one-hot encoding method here rather than Scikit-Learn. Scikit-learn would expand these strings to the 0's and 1's as we would typically see for dummy variables.  TensorFlow translates all words to index values and replaces each word with that index."
      ]
    },
    {
      "cell_type": "code",
      "execution_count": null,
      "metadata": {
        "colab": {
          "base_uri": "https://localhost:8080/"
        },
        "id": "aq0ph8hYoBZX",
        "outputId": "17a69936-d525-4ee4-f05c-dc336737a394"
      },
      "outputs": [
        {
          "output_type": "stream",
          "name": "stdout",
          "text": [
            "Encoded reviews: [tensor([20, 10, 42]), tensor([17, 47]), tensor([17, 36]), tensor([46, 13]), tensor([17, 36]), tensor([24]), tensor([24,  8]), tensor([27]), tensor([40,  6]), tensor([26,  5, 15, 33])]\n"
          ]
        }
      ],
      "source": [
        "# One-hot encode reviews\n",
        "VOCAB_SIZE = 50\n",
        "encoded_reviews = [torch.tensor([hash(word) % VOCAB_SIZE for word in review.split()]) for review in reviews]\n",
        "\n",
        "print(f\"Encoded reviews: {encoded_reviews}\")"
      ]
    },
    {
      "cell_type": "markdown",
      "metadata": {
        "id": "XQ2VeMHGoBZX"
      },
      "source": [
        "The program one-hot encodes these reviews to word indexes; however, their lengths are different.  We pad these reviews to 4 words and truncate any words beyond the fourth word."
      ]
    },
    {
      "cell_type": "code",
      "execution_count": null,
      "metadata": {
        "colab": {
          "base_uri": "https://localhost:8080/"
        },
        "id": "tfrvYtaBoBZX",
        "outputId": "520e1135-d1be-4a69-a448-56666d09190e"
      },
      "outputs": [
        {
          "output_type": "stream",
          "name": "stdout",
          "text": [
            "tensor([[20, 10, 42,  0],\n",
            "        [17, 47,  0,  0],\n",
            "        [17, 36,  0,  0],\n",
            "        [46, 13,  0,  0],\n",
            "        [17, 36,  0,  0],\n",
            "        [24,  0,  0,  0],\n",
            "        [24,  8,  0,  0],\n",
            "        [27,  0,  0,  0],\n",
            "        [40,  6,  0,  0],\n",
            "        [26,  5, 15, 33]])\n"
          ]
        }
      ],
      "source": [
        "MAX_LENGTH = 4\n",
        "padded_reviews = pad_sequence(encoded_reviews, batch_first=True, padding_value=0).narrow(1, 0, MAX_LENGTH)\n",
        "print(padded_reviews)\n"
      ]
    },
    {
      "cell_type": "markdown",
      "metadata": {
        "id": "nwMJm4ztoBZX"
      },
      "source": [
        "As specified by the **padding=post** setting, each review is padded by appending zeros at the end, as specified by the **padding=post** setting.\n",
        "\n",
        "Next, we create a neural network to learn to classify these reviews."
      ]
    },
    {
      "cell_type": "code",
      "execution_count": null,
      "metadata": {
        "id": "GK2yiTFRoBZX"
      },
      "outputs": [],
      "source": [
        "model = nn.Sequential(\n",
        "    nn.Embedding(VOCAB_SIZE, 8),\n",
        "    nn.Flatten(),\n",
        "    nn.Linear(8 * MAX_LENGTH, 1),\n",
        "    nn.Sigmoid()\n",
        ")"
      ]
    },
    {
      "cell_type": "markdown",
      "metadata": {
        "id": "jvpQk1GXoBZX"
      },
      "source": [
        "This network accepts four integer inputs that specify the indexes of a padded movie review. The first embedding layer converts these four indexes into four length vectors 8. These vectors come from the lookup table that contains 50 (VOCAB_SIZE) rows of vectors of length 8. This encoding is evident by the 400 (8 times 50) parameters in the embedding layer. The output size from the embedding layer is 32 (4 words expressed as 8-number embedded vectors). A single output neuron is connected to the embedding layer by 33 weights (32 from the embedding layer and a single bias neuron). Because this is a single-class classification network, we use the sigmoid activation function and binary_crossentropy.\n",
        "\n",
        "The program now trains the neural network. The embedding lookup and dense 33 weights are updated to produce a better score."
      ]
    },
    {
      "cell_type": "code",
      "execution_count": null,
      "metadata": {
        "id": "BkRJvhz7oBZY"
      },
      "outputs": [],
      "source": [
        "criterion = nn.BCELoss()  # Binary Cross Entropy\n",
        "optimizer = optim.Adam(model.parameters())\n",
        "\n",
        "# Training the model\n",
        "epochs = 100\n",
        "for epoch in range(epochs):\n",
        "    optimizer.zero_grad()\n",
        "    outputs = model(padded_reviews.long())\n",
        "    loss = criterion(outputs.squeeze(), torch.tensor(labels, dtype=torch.float))\n",
        "    loss.backward()\n",
        "    optimizer.step()"
      ]
    },
    {
      "cell_type": "markdown",
      "metadata": {
        "id": "m8306knWoBZY"
      },
      "source": [
        "We can see the learned embeddings.  Think of each word's vector as a location in the 8 dimension space where words associated with positive reviews are close to other words.  Similarly, training places negative reviews close to each other.  In addition to the training setting these embeddings, the 33 weights between the embedding layer and output neuron similarly learn to transform these embeddings into an actual prediction.  You can see these embeddings here."
      ]
    },
    {
      "cell_type": "code",
      "execution_count": null,
      "metadata": {
        "colab": {
          "base_uri": "https://localhost:8080/"
        },
        "id": "bt_4XhUooBZY",
        "outputId": "86294fae-63df-4f50-b62c-29b13698337d"
      },
      "outputs": [
        {
          "output_type": "stream",
          "name": "stdout",
          "text": [
            "torch.Size([50, 8])\n",
            "Parameter containing:\n",
            "tensor([[ 9.9411e-01, -3.5388e-01,  8.2137e-02,  5.6369e-01,  5.5578e-01,\n",
            "         -9.8037e-01,  1.2785e+00,  8.4731e-01],\n",
            "        [ 1.6499e+00, -2.4923e+00, -1.5219e+00, -1.0694e+00, -5.6716e-01,\n",
            "         -1.5407e-01,  9.3867e-02,  1.3688e+00],\n",
            "        [-1.9020e+00, -1.9030e+00,  1.5005e+00,  3.7296e-01,  9.1035e-01,\n",
            "          5.6836e-01, -6.9442e-01,  6.4522e-01],\n",
            "        [-2.2710e-01, -2.0141e-01, -1.2969e+00, -2.6950e-01,  4.2573e-01,\n",
            "          8.7942e-02, -4.2940e-01,  1.6858e+00],\n",
            "        [ 6.1221e-02,  4.7165e-01,  8.6544e-01, -7.7662e-01, -1.0561e+00,\n",
            "          3.6248e-01,  1.8910e-01,  7.6741e-01],\n",
            "        [-8.5351e-01,  1.3236e+00, -7.2330e-01, -1.1938e-01,  2.1127e-02,\n",
            "          8.9076e-01,  6.6317e-02,  1.3326e+00],\n",
            "        [-2.4659e+00,  9.3169e-02,  2.9718e-01,  1.0372e+00, -1.0004e+00,\n",
            "         -9.8051e-01, -5.0607e-01,  1.1136e+00],\n",
            "        [-1.4335e-01, -1.1179e+00,  7.9972e-01,  1.6529e+00,  9.7180e-02,\n",
            "          8.0609e-02, -1.6146e+00, -3.5418e-01],\n",
            "        [-1.4659e+00, -1.0263e+00, -2.2275e+00,  7.2046e-01,  4.6187e-01,\n",
            "         -9.5659e-01, -3.5492e-01,  1.3472e+00],\n",
            "        [-7.3894e-01,  9.7136e-01,  4.3643e-01, -1.2429e+00, -2.2554e-01,\n",
            "          1.6327e-01, -1.9756e+00,  1.1688e+00],\n",
            "        [-1.7233e-01, -1.6275e+00,  2.3975e+00, -1.2110e+00,  2.0569e-01,\n",
            "         -1.1357e+00,  4.5456e-01, -1.6664e+00],\n",
            "        [ 7.1608e-01,  1.5328e+00, -1.7351e-01, -3.5685e-01, -2.7248e-01,\n",
            "          1.9679e+00, -6.2380e-02,  1.7530e+00],\n",
            "        [ 1.8531e+00, -2.0247e+00, -3.8395e-01,  7.3289e-01, -3.4150e-01,\n",
            "         -3.1340e+00, -9.8215e-01,  1.8113e-01],\n",
            "        [-3.0500e-01,  1.3199e-01,  4.7186e-01,  3.5389e-01, -6.5832e-01,\n",
            "          1.1737e+00, -5.3034e-01,  1.4452e-01],\n",
            "        [-1.2975e-01, -1.1259e+00, -1.5056e+00,  6.4632e-02,  1.0579e+00,\n",
            "         -6.2892e-01,  7.5237e-01,  9.0029e-01],\n",
            "        [ 1.1320e+00,  3.0977e-01, -3.0657e+00, -1.8231e+00,  2.0308e-01,\n",
            "          5.1279e-01,  2.5468e-01,  6.7556e-01],\n",
            "        [ 5.7909e-01,  1.4175e+00, -1.1157e+00,  3.5501e-01, -1.6158e+00,\n",
            "          4.8470e-01, -1.2325e+00,  1.3574e+00],\n",
            "        [-6.7441e-02, -1.9286e-01, -1.3122e-01,  6.9093e-01,  7.3034e-01,\n",
            "         -6.3772e-01,  6.7655e-01,  1.3848e+00],\n",
            "        [ 1.5850e-01, -1.5624e+00,  2.6860e-01, -1.3754e+00,  7.8844e-01,\n",
            "         -4.5238e-01, -6.3525e-01, -1.1661e-01],\n",
            "        [-1.5059e+00,  3.5426e-01,  3.0840e-01,  4.7769e-01, -1.7167e-01,\n",
            "          4.5907e-01, -2.1031e+00,  1.0341e+00],\n",
            "        [ 3.3569e+00, -5.3125e-01, -9.4914e-02, -1.0412e-01, -1.0422e+00,\n",
            "          1.6640e+00, -7.0798e-01, -1.2718e-01],\n",
            "        [ 7.8870e-01,  3.7729e-01,  5.8518e-02,  1.3835e+00,  7.1374e-01,\n",
            "         -4.6904e-02,  1.8024e+00, -1.3612e+00],\n",
            "        [ 1.6809e-01,  9.0677e-01,  2.3679e+00,  5.7593e-01,  1.3576e+00,\n",
            "          8.3642e-01, -1.3426e-01, -1.7222e+00],\n",
            "        [-1.6284e+00, -1.0632e+00, -1.1647e+00,  1.1100e+00, -7.8693e-01,\n",
            "         -2.5306e-01,  5.8462e-01,  1.8888e-02],\n",
            "        [-1.2093e-01,  6.9628e-01, -2.1634e-01, -4.1298e-01,  6.3211e-01,\n",
            "         -3.8925e-02,  3.9591e-01, -1.6792e+00],\n",
            "        [ 7.5550e-01, -1.6971e+00, -3.3775e-01,  2.3085e-01, -9.7374e-01,\n",
            "         -6.0798e-01,  6.0180e-01,  6.0525e-01],\n",
            "        [ 1.2174e+00,  5.1860e-02,  3.8595e-01,  4.6110e-01,  1.1523e-01,\n",
            "         -9.6167e-03,  2.5966e+00, -8.9929e-01],\n",
            "        [ 8.9661e-01,  5.7495e-01,  1.8417e+00, -5.1547e-02, -1.4956e+00,\n",
            "         -1.6656e+00, -1.1094e+00,  4.0705e-01],\n",
            "        [-3.0412e-01,  6.7790e-01,  1.1476e+00,  1.1167e+00,  1.8878e+00,\n",
            "          6.3560e-02, -4.8644e-02,  4.5481e-01],\n",
            "        [-6.2437e-01,  4.7653e-01, -1.0882e+00, -1.0385e-01,  1.4607e-01,\n",
            "         -4.9574e-02, -9.8382e-01,  2.3589e-01],\n",
            "        [-1.5669e-01,  7.5660e-01,  2.9348e-01, -1.2052e+00,  1.8179e+00,\n",
            "          1.6594e+00,  1.0359e+00, -9.1451e-02],\n",
            "        [-8.9531e-01, -1.2626e+00,  4.6755e-01, -2.0186e-01,  7.2843e-01,\n",
            "         -6.1644e-01, -1.3524e+00,  1.3147e+00],\n",
            "        [ 6.1956e-01, -6.1582e-02, -4.8550e-02, -6.1344e-02,  1.2541e+00,\n",
            "          1.3818e+00,  9.0937e-01, -6.7924e-01],\n",
            "        [ 5.8934e-01,  8.9813e-01,  1.0901e+00,  1.6028e+00, -2.6162e-01,\n",
            "         -1.0054e+00,  5.1211e-01,  1.3219e-01],\n",
            "        [ 9.3584e-01, -3.5415e-02, -1.2553e+00, -5.9112e-02,  9.7903e-01,\n",
            "         -1.5682e+00, -1.3338e+00, -4.8003e-01],\n",
            "        [-6.9586e-01, -5.7273e-01, -6.5615e-01, -3.2683e-01, -4.8178e-02,\n",
            "          1.5323e-01, -3.2988e-01, -1.1748e-01],\n",
            "        [-1.7164e+00, -1.9251e+00, -1.1206e+00,  1.5994e-01, -3.9961e-01,\n",
            "         -5.8274e-01, -6.7132e-01, -5.7409e-01],\n",
            "        [-2.9192e-01, -1.4762e-01, -1.9451e-01, -3.0311e-01,  2.7777e-01,\n",
            "         -4.6631e-01, -7.5029e-01,  1.1493e+00],\n",
            "        [ 1.7869e+00,  1.1490e+00, -1.8736e-01, -4.4050e-01,  1.6402e+00,\n",
            "          2.4478e+00,  2.2735e+00, -1.0757e-01],\n",
            "        [-1.4044e+00, -9.1937e-01,  1.0663e+00,  1.0851e+00, -1.0678e+00,\n",
            "          1.3293e+00,  8.4642e-01, -1.9564e-01],\n",
            "        [-4.3442e-01, -2.5036e-01, -7.8985e-01,  9.6484e-05,  1.4033e+00,\n",
            "          5.2479e-01,  1.0323e+00, -6.3591e-01],\n",
            "        [ 1.8104e+00, -6.4210e-01,  1.4126e+00,  8.9288e-01,  3.5309e-01,\n",
            "         -1.4977e+00, -2.3493e-01, -2.0213e-01],\n",
            "        [-4.0299e-01,  1.8163e-01,  1.7592e-01,  2.4315e-01, -4.4209e-01,\n",
            "          1.4566e+00, -1.3620e+00,  1.4497e+00],\n",
            "        [ 1.3089e+00,  7.0743e-01, -6.2474e-01,  3.4316e-01,  5.4145e-01,\n",
            "         -1.1718e+00, -6.2610e-01,  1.5475e-01],\n",
            "        [-4.5537e-01,  2.6976e-01,  6.7182e-01, -1.6871e-01, -1.1663e+00,\n",
            "         -4.7632e-01, -1.2566e+00,  4.9950e-01],\n",
            "        [ 1.6774e+00,  1.1517e+00,  1.0609e+00,  1.0596e+00, -2.1554e+00,\n",
            "          3.6384e-01, -9.4094e-01, -4.8500e-02],\n",
            "        [ 1.7692e+00,  1.1904e+00, -2.6182e+00,  1.4653e-02, -8.8755e-01,\n",
            "         -8.5553e-01, -3.4823e-02,  1.9191e+00],\n",
            "        [-1.0984e+00,  5.2965e-01, -1.1124e+00,  2.0236e+00, -1.0180e+00,\n",
            "         -5.0621e-01, -7.0359e-01,  1.0268e+00],\n",
            "        [ 7.8016e-01, -3.9795e-01,  1.3579e+00,  1.4150e+00, -6.3895e-01,\n",
            "          1.3194e-02, -1.7172e+00, -3.1357e-01],\n",
            "        [ 7.5337e-01, -1.6801e+00, -2.7901e-01,  8.7922e-01,  1.0097e+00,\n",
            "         -4.3902e-01, -1.7626e+00, -9.0659e-03]], requires_grad=True)\n"
          ]
        }
      ],
      "source": [
        "embedding_weights = list(model[0].parameters())[0]\n",
        "print(embedding_weights.shape)\n",
        "print(embedding_weights)\n"
      ]
    },
    {
      "cell_type": "markdown",
      "metadata": {
        "id": "X7sIWHLvoBZY"
      },
      "source": [
        "We can now evaluate this neural network's accuracy, including the embeddings and the learned dense layer.  "
      ]
    },
    {
      "cell_type": "code",
      "execution_count": null,
      "metadata": {
        "colab": {
          "base_uri": "https://localhost:8080/"
        },
        "id": "of3oQrPxoBZY",
        "outputId": "e1527ff6-f2a0-4a0a-96c8-23a775486b15"
      },
      "outputs": [
        {
          "output_type": "stream",
          "name": "stdout",
          "text": [
            "Accuracy: 0.8999999761581421\n",
            "Log-loss: 0.44128909707069397\n"
          ]
        }
      ],
      "source": [
        "# Evaluation\n",
        "with torch.no_grad():\n",
        "    outputs = model(padded_reviews.long())\n",
        "    predictions = (outputs > 0.5).float().squeeze()\n",
        "    accuracy = (predictions == torch.tensor(labels)).float().mean().item()\n",
        "    loss_value = criterion(outputs.squeeze(), torch.tensor(labels, dtype=torch.float)).item()\n",
        "\n",
        "print(f'Accuracy: {accuracy}')\n",
        "print(f'Log-loss: {loss_value}')"
      ]
    },
    {
      "cell_type": "markdown",
      "metadata": {
        "id": "PMmvVz92oBZY"
      },
      "source": [
        "The accuracy is great, but there could be overfitting. It would be good to use early stopping to not overfit for a more complex data set. However, the loss is not perfect. Even though the predicted probabilities indicated a correct prediction in every case, the program did not achieve absolute confidence in each correct answer. The lack of confidence was likely due to the small amount of noise (previously discussed) in the data set. Some words that appeared in both positive and negative reviews contributed to this lack of absolute certainty."
      ]
    }
  ],
  "metadata": {
    "anaconda-cloud": {},
    "colab": {
      "provenance": [],
      "include_colab_link": true
    },
    "kernelspec": {
      "display_name": "Python 3.9 (torch)",
      "language": "python",
      "name": "pytorch"
    },
    "language_info": {
      "codemirror_mode": {
        "name": "ipython",
        "version": 3
      },
      "file_extension": ".py",
      "mimetype": "text/x-python",
      "name": "python",
      "nbconvert_exporter": "python",
      "pygments_lexer": "ipython3",
      "version": "3.9.16"
    },
    "varInspector": {
      "cols": {
        "lenName": 16,
        "lenType": 16,
        "lenVar": 40
      },
      "kernels_config": {
        "python": {
          "delete_cmd_postfix": "",
          "delete_cmd_prefix": "del ",
          "library": "var_list.py",
          "varRefreshCmd": "print(var_dic_list())"
        },
        "r": {
          "delete_cmd_postfix": ") ",
          "delete_cmd_prefix": "rm(",
          "library": "var_list.r",
          "varRefreshCmd": "cat(var_dic_list()) "
        }
      },
      "types_to_exclude": [
        "module",
        "function",
        "builtin_function_or_method",
        "instance",
        "_Feature"
      ],
      "window_display": false
    }
  },
  "nbformat": 4,
  "nbformat_minor": 0
}